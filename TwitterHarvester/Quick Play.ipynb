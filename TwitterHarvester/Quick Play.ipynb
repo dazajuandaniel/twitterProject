{
 "cells": [
  {
   "cell_type": "code",
   "execution_count": 1,
   "metadata": {
    "collapsed": true
   },
   "outputs": [],
   "source": [
    "import couchdb"
   ]
  },
  {
   "cell_type": "code",
   "execution_count": 2,
   "metadata": {
    "collapsed": true
   },
   "outputs": [],
   "source": [
    "try:\n",
    "    couch = couchdb.Server('http://115.146.93.140:5984/')\n",
    "    db = couch['raw_tweets']\n",
    "except:\n",
    "    print 'Database Connection Error'"
   ]
  },
  {
   "cell_type": "code",
   "execution_count": 3,
   "metadata": {
    "collapsed": false
   },
   "outputs": [
    {
     "data": {
      "text/plain": [
       "[u'favorited',\n",
       " u'contributors',\n",
       " u'truncated',\n",
       " u'text',\n",
       " u'_rev',\n",
       " u'is_quote_status',\n",
       " u'in_reply_to_status_id',\n",
       " u'user',\n",
       " u'filter_level',\n",
       " u'geo',\n",
       " u'id',\n",
       " u'favorite_count',\n",
       " u'lang',\n",
       " u'_id',\n",
       " u'entities',\n",
       " u'in_reply_to_user_id_str',\n",
       " u'retweeted',\n",
       " u'coordinates',\n",
       " u'timestamp_ms',\n",
       " u'source',\n",
       " u'in_reply_to_status_id_str',\n",
       " u'in_reply_to_screen_name',\n",
       " u'in_reply_to_user_id',\n",
       " u'place',\n",
       " u'retweet_count',\n",
       " u'created_at',\n",
       " u'id_str']"
      ]
     },
     "execution_count": 3,
     "metadata": {},
     "output_type": "execute_result"
    }
   ],
   "source": [
    "db['2d368c427b8e1c5c54ca382c290005da'].keys()"
   ]
  },
  {
   "cell_type": "code",
   "execution_count": 4,
   "metadata": {
    "collapsed": false
   },
   "outputs": [
    {
     "data": {
      "text/plain": [
       "u'Wed Apr 26 12:45:17 +0000 2017'"
      ]
     },
     "execution_count": 4,
     "metadata": {},
     "output_type": "execute_result"
    }
   ],
   "source": [
    "db['2d368c427b8e1c5c54ca382c290005da']['created_at']"
   ]
  },
  {
   "cell_type": "code",
   "execution_count": 15,
   "metadata": {
    "collapsed": false
   },
   "outputs": [
    {
     "name": "stdout",
     "output_type": "stream",
     "text": [
      "True\n",
      "False\n"
     ]
    }
   ],
   "source": [
    "print db['2d368c427b8e1c5c54ca382c290005da']['geo'] is None\n",
    "print db['2d368c427b8e1c5c54ca382c29004834']['geo'] is None"
   ]
  },
  {
   "cell_type": "code",
   "execution_count": 20,
   "metadata": {
    "collapsed": false
   },
   "outputs": [
    {
     "data": {
      "text/plain": [
       "{u'coordinates': [145.00313, -37.93526], u'type': u'Point'}"
      ]
     },
     "execution_count": 20,
     "metadata": {},
     "output_type": "execute_result"
    }
   ],
   "source": [
    "db['2d368c427b8e1c5c54ca382c29004834']['coordinates']"
   ]
  },
  {
   "cell_type": "code",
   "execution_count": 28,
   "metadata": {
    "collapsed": false
   },
   "outputs": [
    {
     "data": {
      "text/plain": [
       "u'Wed Apr 26 12:45:17 +0000 2017'"
      ]
     },
     "execution_count": 28,
     "metadata": {},
     "output_type": "execute_result"
    }
   ],
   "source": [
    "db['2d368c427b8e1c5c54ca382c290005da']['created_at']"
   ]
  },
  {
   "cell_type": "code",
   "execution_count": 31,
   "metadata": {
    "collapsed": false
   },
   "outputs": [
    {
     "data": {
      "text/plain": [
       "'2017-04-26 12:45:17'"
      ]
     },
     "execution_count": 31,
     "metadata": {},
     "output_type": "execute_result"
    }
   ],
   "source": [
    "import time\n",
    "time.strftime('%Y-%m-%d %H:%M:%S', time.strptime(db['2d368c427b8e1c5c54ca382c290005da']['created_at'],'%a %b %d %H:%M:%S +0000 %Y'))"
   ]
  },
  {
   "cell_type": "code",
   "execution_count": 39,
   "metadata": {
    "collapsed": false
   },
   "outputs": [
    {
     "data": {
      "text/plain": [
       "u'Shhh! https://t.co/JkDHHCAcwj'"
      ]
     },
     "execution_count": 39,
     "metadata": {},
     "output_type": "execute_result"
    }
   ],
   "source": [
    "db['1548bdd4c221cba8108949df2f020713']['text']"
   ]
  },
  {
   "cell_type": "code",
   "execution_count": 40,
   "metadata": {
    "collapsed": true
   },
   "outputs": [],
   "source": [
    "db['1548bdd4c221cba8108949df2f020713']['text']=1"
   ]
  },
  {
   "cell_type": "code",
   "execution_count": 41,
   "metadata": {
    "collapsed": false
   },
   "outputs": [
    {
     "data": {
      "text/plain": [
       "u'Shhh! https://t.co/JkDHHCAcwj'"
      ]
     },
     "execution_count": 41,
     "metadata": {},
     "output_type": "execute_result"
    }
   ],
   "source": [
    "db['1548bdd4c221cba8108949df2f020713']['text']"
   ]
  },
  {
   "cell_type": "code",
   "execution_count": 52,
   "metadata": {
    "collapsed": false
   },
   "outputs": [
    {
     "data": {
      "text/plain": [
       "u'1-28960598628d615b82a474876e6151ca'"
      ]
     },
     "execution_count": 52,
     "metadata": {},
     "output_type": "execute_result"
    }
   ],
   "source": [
    "db['1548bdd4c221cba8108949df2f020713']['_rev']"
   ]
  },
  {
   "cell_type": "code",
   "execution_count": 53,
   "metadata": {
    "collapsed": true
   },
   "outputs": [],
   "source": [
    "try:\n",
    "    couch2 = couchdb.Server('http://115.146.93.140:5984/')\n",
    "    db2 = couch2['raw_tweets']\n",
    "except:\n",
    "    #print 'Database Connection Error'\n",
    "    #print >> f1, \"Database Connection Error\"\n",
    "    #f1.write('DB error')\n",
    "    logPrint('DB Error')"
   ]
  },
  {
   "cell_type": "code",
   "execution_count": 54,
   "metadata": {
    "collapsed": false
   },
   "outputs": [
    {
     "data": {
      "text/plain": [
       "(u'1548bdd4c221cba8108949df2f020713', u'2-59239a8a7d9a99c9d9b622238950e7d8')"
      ]
     },
     "execution_count": 54,
     "metadata": {},
     "output_type": "execute_result"
    }
   ],
   "source": [
    "db2.save(db['1548bdd4c221cba8108949df2f020713'])"
   ]
  },
  {
   "cell_type": "code",
   "execution_count": 55,
   "metadata": {
    "collapsed": true
   },
   "outputs": [],
   "source": [
    "db['1548bdd4c221cba8108949df2f020713']['sentiment']=1"
   ]
  },
  {
   "cell_type": "code",
   "execution_count": 56,
   "metadata": {
    "collapsed": false
   },
   "outputs": [
    {
     "data": {
      "text/plain": [
       "u'Neutral'"
      ]
     },
     "execution_count": 56,
     "metadata": {},
     "output_type": "execute_result"
    }
   ],
   "source": [
    "db['1548bdd4c221cba8108949df2f020713']['sentiment']"
   ]
  },
  {
   "cell_type": "code",
   "execution_count": 8,
   "metadata": {
    "collapsed": false
   },
   "outputs": [],
   "source": [
    "from couchdb.design import ViewDefinition"
   ]
  },
  {
   "cell_type": "code",
   "execution_count": 9,
   "metadata": {
    "collapsed": true
   },
   "outputs": [],
   "source": [
    "#ViewDefinition.sync_many"
   ]
  },
  {
   "cell_type": "code",
   "execution_count": 37,
   "metadata": {
    "collapsed": false
   },
   "outputs": [
    {
     "name": "stdout",
     "output_type": "stream",
     "text": [
      "<Row key=5, value=10855>\n",
      "<Row key=6, value=11352>\n",
      "<Row key=7, value=11209>\n",
      "<Row key=8, value=10916>\n",
      "<Row key=9, value=10959>\n",
      "<Row key=10, value=10845>\n",
      "<Row key=11, value=10164>\n",
      "<Row key=12, value=9355>\n",
      "<Row key=13, value=6001>\n",
      "<Row key=14, value=4834>\n",
      "<Row key=15, value=3538>\n",
      "<Row key=16, value=2893>\n",
      "<Row key=17, value=2625>\n",
      "<Row key=18, value=2470>\n",
      "<Row key=19, value=2517>\n",
      "<Row key=20, value=3709>\n",
      "<Row key=21, value=7132>\n",
      "<Row key=22, value=9042>\n",
      "<Row key=23, value=9539>\n"
     ]
    }
   ],
   "source": [
    "for row in db.view('views/TweetsbyHour',group=True,startkey=5):\n",
    "    print row"
   ]
  },
  {
   "cell_type": "code",
   "execution_count": 14,
   "metadata": {
    "collapsed": true
   },
   "outputs": [],
   "source": [
    "?db.view('TweetsbyHour')"
   ]
  },
  {
   "cell_type": "code",
   "execution_count": null,
   "metadata": {
    "collapsed": true
   },
   "outputs": [],
   "source": []
  }
 ],
 "metadata": {
  "kernelspec": {
   "display_name": "Python 2",
   "language": "python",
   "name": "python2"
  },
  "language_info": {
   "codemirror_mode": {
    "name": "ipython",
    "version": 2
   },
   "file_extension": ".py",
   "mimetype": "text/x-python",
   "name": "python",
   "nbconvert_exporter": "python",
   "pygments_lexer": "ipython2",
   "version": "2.7.13"
  }
 },
 "nbformat": 4,
 "nbformat_minor": 2
}
