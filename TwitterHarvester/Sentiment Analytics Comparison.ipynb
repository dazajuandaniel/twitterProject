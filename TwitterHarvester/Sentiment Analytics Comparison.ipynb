{
 "cells": [
  {
   "cell_type": "markdown",
   "metadata": {},
   "source": [
    "# Library Import"
   ]
  },
  {
   "cell_type": "code",
   "execution_count": 2,
   "metadata": {
    "collapsed": true
   },
   "outputs": [],
   "source": [
    "import config\n",
    "import pandas as pd\n",
    "import numpy as np"
   ]
  },
  {
   "cell_type": "markdown",
   "metadata": {},
   "source": [
    "# Intitial Setup"
   ]
  },
  {
   "cell_type": "code",
   "execution_count": 4,
   "metadata": {
    "collapsed": true
   },
   "outputs": [],
   "source": [
    "sample_size=150\n",
    "db=config.db_setup(config.SERVER_ADDRESS)"
   ]
  },
  {
   "cell_type": "markdown",
   "metadata": {},
   "source": [
    "# Data Gathering"
   ]
  },
  {
   "cell_type": "markdown",
   "metadata": {},
   "source": [
    "Get 150 Tweets to compare the outputs and the difference between using Textblob and AFINN method."
   ]
  },
  {
   "cell_type": "code",
   "execution_count": 36,
   "metadata": {
    "collapsed": false
   },
   "outputs": [],
   "source": [
    "id_list=[]\n",
    "tweets=[]\n",
    "affinSentiment=[]\n",
    "txtblobSentiment=[]\n",
    "count=0\n",
    "for i in db.view('views/hasAfinnSentiment'):\n",
    "    if count<=sample_size:\n",
    "        id=i.id\n",
    "        id_list.append(id)\n",
    "        doc=db.get(id)\n",
    "        tweets.append(doc['text'])\n",
    "        affinSentiment.append(doc['sentimentAFINN'])\n",
    "        txtblobSentiment.append(doc['sentiment'])\n",
    "        count+=1"
   ]
  },
  {
   "cell_type": "code",
   "execution_count": 46,
   "metadata": {
    "collapsed": false
   },
   "outputs": [],
   "source": [
    "array=np.array([id_list,tweets,affinSentiment,txtblobSentiment])"
   ]
  },
  {
   "cell_type": "code",
   "execution_count": 47,
   "metadata": {
    "collapsed": false
   },
   "outputs": [],
   "source": [
    "ids=pd.DataFrame(array[0])\n",
    "tweets=pd.DataFrame(array[1])\n",
    "sent=pd.DataFrame(array[2])\n",
    "blob=pd.DataFrame(array[3])"
   ]
  },
  {
   "cell_type": "code",
   "execution_count": 48,
   "metadata": {
    "collapsed": false
   },
   "outputs": [],
   "source": [
    "afinn=pd.concat([ids,tweets,sent,blob],axis=1)\n",
    "afinn.columns=['id','Tweet','Sentiment','Textblob']"
   ]
  },
  {
   "cell_type": "code",
   "execution_count": 49,
   "metadata": {
    "collapsed": false
   },
   "outputs": [],
   "source": [
    "afinn['Tweet']=afinn['Tweet'].apply(lambda x:x.encode('utf-8'))\n",
    "afinn.to_csv('comparison.csv')"
   ]
  },
  {
   "cell_type": "code",
   "execution_count": null,
   "metadata": {
    "collapsed": true
   },
   "outputs": [],
   "source": []
  }
 ],
 "metadata": {
  "kernelspec": {
   "display_name": "Python 2",
   "language": "python",
   "name": "python2"
  },
  "language_info": {
   "codemirror_mode": {
    "name": "ipython",
    "version": 2
   },
   "file_extension": ".py",
   "mimetype": "text/x-python",
   "name": "python",
   "nbconvert_exporter": "python",
   "pygments_lexer": "ipython2",
   "version": "2.7.13"
  }
 },
 "nbformat": 4,
 "nbformat_minor": 2
}
